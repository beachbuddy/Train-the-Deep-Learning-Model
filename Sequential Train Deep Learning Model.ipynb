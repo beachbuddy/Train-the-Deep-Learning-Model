{
 "cells": [
  {
   "cell_type": "code",
   "execution_count": 1,
   "id": "preceding-shipping",
   "metadata": {},
   "outputs": [],
   "source": [
    "import pandas as pd\n",
    "import yaml\n",
    "import pickle\n",
    "import numpy as np\n",
    "import keras\n",
    "from keras import models\n",
    "from keras import layers\n",
    "import tensorflow as tf"
   ]
  },
  {
   "cell_type": "code",
   "execution_count": 2,
   "id": "under-admission",
   "metadata": {},
   "outputs": [],
   "source": [
    "with open('C:/Users/Sidney/LiveProject/AirBnB_config.yml', 'r') as file:\n",
    "    config=yaml.safe_load(file)"
   ]
  },
  {
   "cell_type": "code",
   "execution_count": 3,
   "id": "other-instruction",
   "metadata": {},
   "outputs": [],
   "source": [
    "parameters=config.get('general')"
   ]
  },
  {
   "cell_type": "code",
   "execution_count": 4,
   "id": "younger-infection",
   "metadata": {},
   "outputs": [],
   "source": [
    "patience=parameters.get('patience')\n",
    "batch_size=parameters.get('batch_size')\n",
    "factor=parameters.get('factor')\n",
    "experiment=parameters.get('experiment')\n",
    "repeatable_run=parameters.get('repeatable_run')\n",
    "tensorboard_callback=parameters.get('tensorboard_callback')"
   ]
  },
  {
   "cell_type": "code",
   "execution_count": 5,
   "id": "ideal-nebraska",
   "metadata": {},
   "outputs": [
    {
     "data": {
      "text/plain": [
       "'5'"
      ]
     },
     "execution_count": 5,
     "metadata": {},
     "output_type": "execute_result"
    }
   ],
   "source": [
    "experiment"
   ]
  },
  {
   "cell_type": "code",
   "execution_count": 6,
   "id": "electronic-canyon",
   "metadata": {},
   "outputs": [
    {
     "data": {
      "text/plain": [
       "False"
      ]
     },
     "execution_count": 6,
     "metadata": {},
     "output_type": "execute_result"
    }
   ],
   "source": [
    "repeatable_run"
   ]
  },
  {
   "cell_type": "markdown",
   "id": "enabling-plymouth",
   "metadata": {},
   "source": [
    "Read the normalized pandas df that was calculated in the previous module"
   ]
  },
  {
   "cell_type": "code",
   "execution_count": 7,
   "id": "quality-december",
   "metadata": {},
   "outputs": [],
   "source": [
    "Ndf=pd.read_csv('C:/Users/Sidney/LiveProject/AirBnB_normalized_df.csv')"
   ]
  },
  {
   "cell_type": "markdown",
   "id": "yellow-support",
   "metadata": {},
   "source": [
    "Need to remove the first column from the df"
   ]
  },
  {
   "cell_type": "code",
   "execution_count": 8,
   "id": "approved-station",
   "metadata": {},
   "outputs": [
    {
     "data": {
      "text/html": [
       "<div>\n",
       "<style scoped>\n",
       "    .dataframe tbody tr th:only-of-type {\n",
       "        vertical-align: middle;\n",
       "    }\n",
       "\n",
       "    .dataframe tbody tr th {\n",
       "        vertical-align: top;\n",
       "    }\n",
       "\n",
       "    .dataframe thead th {\n",
       "        text-align: right;\n",
       "    }\n",
       "</style>\n",
       "<table border=\"1\" class=\"dataframe\">\n",
       "  <thead>\n",
       "    <tr style=\"text-align: right;\">\n",
       "      <th></th>\n",
       "      <th>Unnamed: 0</th>\n",
       "      <th>Nneighbourhood_group</th>\n",
       "      <th>Nneighbourhood</th>\n",
       "      <th>Nroom_type</th>\n",
       "      <th>Nminimum_nights</th>\n",
       "      <th>Nnumber_of_reviews</th>\n",
       "      <th>Nreviews_per_month</th>\n",
       "      <th>Ncalculated_host_listings_count</th>\n",
       "      <th>Nprice</th>\n",
       "    </tr>\n",
       "  </thead>\n",
       "  <tbody>\n",
       "    <tr>\n",
       "      <th>0</th>\n",
       "      <td>0</td>\n",
       "      <td>0.4</td>\n",
       "      <td>0.239819</td>\n",
       "      <td>0.666667</td>\n",
       "      <td>-0.293993</td>\n",
       "      <td>-0.320410</td>\n",
       "      <td>-0.551505</td>\n",
       "      <td>-0.034716</td>\n",
       "      <td>0</td>\n",
       "    </tr>\n",
       "    <tr>\n",
       "      <th>1</th>\n",
       "      <td>1</td>\n",
       "      <td>0.2</td>\n",
       "      <td>0.045249</td>\n",
       "      <td>0.333333</td>\n",
       "      <td>-0.293993</td>\n",
       "      <td>0.487660</td>\n",
       "      <td>-0.445075</td>\n",
       "      <td>-0.156103</td>\n",
       "      <td>1</td>\n",
       "    </tr>\n",
       "    <tr>\n",
       "      <th>2</th>\n",
       "      <td>2</td>\n",
       "      <td>0.2</td>\n",
       "      <td>0.013575</td>\n",
       "      <td>0.666667</td>\n",
       "      <td>-0.196482</td>\n",
       "      <td>-0.522428</td>\n",
       "      <td>-0.682979</td>\n",
       "      <td>-0.186450</td>\n",
       "      <td>0</td>\n",
       "    </tr>\n",
       "    <tr>\n",
       "      <th>3</th>\n",
       "      <td>3</td>\n",
       "      <td>0.4</td>\n",
       "      <td>0.090498</td>\n",
       "      <td>0.333333</td>\n",
       "      <td>-0.293993</td>\n",
       "      <td>5.538099</td>\n",
       "      <td>2.221955</td>\n",
       "      <td>-0.186450</td>\n",
       "      <td>0</td>\n",
       "    </tr>\n",
       "    <tr>\n",
       "      <th>4</th>\n",
       "      <td>4</td>\n",
       "      <td>0.2</td>\n",
       "      <td>0.049774</td>\n",
       "      <td>0.333333</td>\n",
       "      <td>0.144805</td>\n",
       "      <td>-0.320410</td>\n",
       "      <td>-0.620372</td>\n",
       "      <td>-0.186450</td>\n",
       "      <td>0</td>\n",
       "    </tr>\n",
       "  </tbody>\n",
       "</table>\n",
       "</div>"
      ],
      "text/plain": [
       "   Unnamed: 0  Nneighbourhood_group  Nneighbourhood  Nroom_type  \\\n",
       "0           0                   0.4        0.239819    0.666667   \n",
       "1           1                   0.2        0.045249    0.333333   \n",
       "2           2                   0.2        0.013575    0.666667   \n",
       "3           3                   0.4        0.090498    0.333333   \n",
       "4           4                   0.2        0.049774    0.333333   \n",
       "\n",
       "   Nminimum_nights  Nnumber_of_reviews  Nreviews_per_month  \\\n",
       "0        -0.293993           -0.320410           -0.551505   \n",
       "1        -0.293993            0.487660           -0.445075   \n",
       "2        -0.196482           -0.522428           -0.682979   \n",
       "3        -0.293993            5.538099            2.221955   \n",
       "4         0.144805           -0.320410           -0.620372   \n",
       "\n",
       "   Ncalculated_host_listings_count  Nprice  \n",
       "0                        -0.034716       0  \n",
       "1                        -0.156103       1  \n",
       "2                        -0.186450       0  \n",
       "3                        -0.186450       0  \n",
       "4                        -0.186450       0  "
      ]
     },
     "execution_count": 8,
     "metadata": {},
     "output_type": "execute_result"
    }
   ],
   "source": [
    "Ndf.head()"
   ]
  },
  {
   "cell_type": "code",
   "execution_count": 9,
   "id": "boxed-membrane",
   "metadata": {},
   "outputs": [],
   "source": [
    "Ndf = Ndf.iloc[: , 1:]"
   ]
  },
  {
   "cell_type": "code",
   "execution_count": 10,
   "id": "amazing-commitment",
   "metadata": {},
   "outputs": [
    {
     "data": {
      "text/html": [
       "<div>\n",
       "<style scoped>\n",
       "    .dataframe tbody tr th:only-of-type {\n",
       "        vertical-align: middle;\n",
       "    }\n",
       "\n",
       "    .dataframe tbody tr th {\n",
       "        vertical-align: top;\n",
       "    }\n",
       "\n",
       "    .dataframe thead th {\n",
       "        text-align: right;\n",
       "    }\n",
       "</style>\n",
       "<table border=\"1\" class=\"dataframe\">\n",
       "  <thead>\n",
       "    <tr style=\"text-align: right;\">\n",
       "      <th></th>\n",
       "      <th>Nneighbourhood_group</th>\n",
       "      <th>Nneighbourhood</th>\n",
       "      <th>Nroom_type</th>\n",
       "      <th>Nminimum_nights</th>\n",
       "      <th>Nnumber_of_reviews</th>\n",
       "      <th>Nreviews_per_month</th>\n",
       "      <th>Ncalculated_host_listings_count</th>\n",
       "      <th>Nprice</th>\n",
       "    </tr>\n",
       "  </thead>\n",
       "  <tbody>\n",
       "    <tr>\n",
       "      <th>0</th>\n",
       "      <td>0.4</td>\n",
       "      <td>0.239819</td>\n",
       "      <td>0.666667</td>\n",
       "      <td>-0.293993</td>\n",
       "      <td>-0.320410</td>\n",
       "      <td>-0.551505</td>\n",
       "      <td>-0.034716</td>\n",
       "      <td>0</td>\n",
       "    </tr>\n",
       "    <tr>\n",
       "      <th>1</th>\n",
       "      <td>0.2</td>\n",
       "      <td>0.045249</td>\n",
       "      <td>0.333333</td>\n",
       "      <td>-0.293993</td>\n",
       "      <td>0.487660</td>\n",
       "      <td>-0.445075</td>\n",
       "      <td>-0.156103</td>\n",
       "      <td>1</td>\n",
       "    </tr>\n",
       "    <tr>\n",
       "      <th>2</th>\n",
       "      <td>0.2</td>\n",
       "      <td>0.013575</td>\n",
       "      <td>0.666667</td>\n",
       "      <td>-0.196482</td>\n",
       "      <td>-0.522428</td>\n",
       "      <td>-0.682979</td>\n",
       "      <td>-0.186450</td>\n",
       "      <td>0</td>\n",
       "    </tr>\n",
       "    <tr>\n",
       "      <th>3</th>\n",
       "      <td>0.4</td>\n",
       "      <td>0.090498</td>\n",
       "      <td>0.333333</td>\n",
       "      <td>-0.293993</td>\n",
       "      <td>5.538099</td>\n",
       "      <td>2.221955</td>\n",
       "      <td>-0.186450</td>\n",
       "      <td>0</td>\n",
       "    </tr>\n",
       "    <tr>\n",
       "      <th>4</th>\n",
       "      <td>0.2</td>\n",
       "      <td>0.049774</td>\n",
       "      <td>0.333333</td>\n",
       "      <td>0.144805</td>\n",
       "      <td>-0.320410</td>\n",
       "      <td>-0.620372</td>\n",
       "      <td>-0.186450</td>\n",
       "      <td>0</td>\n",
       "    </tr>\n",
       "  </tbody>\n",
       "</table>\n",
       "</div>"
      ],
      "text/plain": [
       "   Nneighbourhood_group  Nneighbourhood  Nroom_type  Nminimum_nights  \\\n",
       "0                   0.4        0.239819    0.666667        -0.293993   \n",
       "1                   0.2        0.045249    0.333333        -0.293993   \n",
       "2                   0.2        0.013575    0.666667        -0.196482   \n",
       "3                   0.4        0.090498    0.333333        -0.293993   \n",
       "4                   0.2        0.049774    0.333333         0.144805   \n",
       "\n",
       "   Nnumber_of_reviews  Nreviews_per_month  Ncalculated_host_listings_count  \\\n",
       "0           -0.320410           -0.551505                        -0.034716   \n",
       "1            0.487660           -0.445075                        -0.156103   \n",
       "2           -0.522428           -0.682979                        -0.186450   \n",
       "3            5.538099            2.221955                        -0.186450   \n",
       "4           -0.320410           -0.620372                        -0.186450   \n",
       "\n",
       "   Nprice  \n",
       "0       0  \n",
       "1       1  \n",
       "2       0  \n",
       "3       0  \n",
       "4       0  "
      ]
     },
     "execution_count": 10,
     "metadata": {},
     "output_type": "execute_result"
    }
   ],
   "source": [
    "Ndf.head()"
   ]
  },
  {
   "cell_type": "code",
   "execution_count": 11,
   "id": "ideal-pharmacy",
   "metadata": {},
   "outputs": [
    {
     "data": {
      "text/plain": [
       "0    34016\n",
       "1    14879\n",
       "Name: Nprice, dtype: int64"
      ]
     },
     "execution_count": 11,
     "metadata": {},
     "output_type": "execute_result"
    }
   ],
   "source": [
    "Ndf['Nprice'].value_counts()"
   ]
  },
  {
   "cell_type": "markdown",
   "id": "friendly-strengthening",
   "metadata": {},
   "source": [
    "About twice as many below average prices vs above average prices"
   ]
  },
  {
   "cell_type": "code",
   "execution_count": 12,
   "id": "swedish-northern",
   "metadata": {},
   "outputs": [],
   "source": [
    "dataset=np.array(Ndf)"
   ]
  },
  {
   "cell_type": "code",
   "execution_count": 13,
   "id": "square-cement",
   "metadata": {},
   "outputs": [
    {
     "data": {
      "text/plain": [
       "array([[ 0.4       ,  0.239819  ,  0.66666667, ..., -0.5515053 ,\n",
       "        -0.03471607,  0.        ],\n",
       "       [ 0.2       ,  0.04524887,  0.33333333, ..., -0.44507455,\n",
       "        -0.15610285,  1.        ],\n",
       "       [ 0.2       ,  0.01357466,  0.66666667, ..., -0.68297858,\n",
       "        -0.18644954,  0.        ],\n",
       "       ...,\n",
       "       [ 0.2       ,  0.01357466,  0.33333333, ..., -0.68297858,\n",
       "        -0.18644954,  0.        ],\n",
       "       [ 0.2       ,  0.02714932,  1.        , ..., -0.68297858,\n",
       "        -0.03471607,  0.        ],\n",
       "       [ 0.2       ,  0.02714932,  0.66666667, ..., -0.68297858,\n",
       "        -0.18644954,  0.        ]])"
      ]
     },
     "execution_count": 13,
     "metadata": {},
     "output_type": "execute_result"
    }
   ],
   "source": [
    "dataset"
   ]
  },
  {
   "cell_type": "code",
   "execution_count": 14,
   "id": "decreased-delta",
   "metadata": {},
   "outputs": [
    {
     "data": {
      "text/plain": [
       "(48895, 8)"
      ]
     },
     "execution_count": 14,
     "metadata": {},
     "output_type": "execute_result"
    }
   ],
   "source": [
    "dataset.shape"
   ]
  },
  {
   "cell_type": "code",
   "execution_count": 15,
   "id": "sustained-webmaster",
   "metadata": {},
   "outputs": [],
   "source": [
    "data=dataset[:,:-1]"
   ]
  },
  {
   "cell_type": "code",
   "execution_count": 16,
   "id": "desirable-qatar",
   "metadata": {},
   "outputs": [],
   "source": [
    "label=dataset[:,-1]"
   ]
  },
  {
   "cell_type": "code",
   "execution_count": 17,
   "id": "internal-vertical",
   "metadata": {},
   "outputs": [
    {
     "data": {
      "text/plain": [
       "(48895, 7)"
      ]
     },
     "execution_count": 17,
     "metadata": {},
     "output_type": "execute_result"
    }
   ],
   "source": [
    "data.shape"
   ]
  },
  {
   "cell_type": "code",
   "execution_count": 18,
   "id": "athletic-professional",
   "metadata": {},
   "outputs": [
    {
     "data": {
      "text/plain": [
       "(48895,)"
      ]
     },
     "execution_count": 18,
     "metadata": {},
     "output_type": "execute_result"
    }
   ],
   "source": [
    "label.shape"
   ]
  },
  {
   "cell_type": "markdown",
   "id": "technical-round",
   "metadata": {},
   "source": [
    "I will use first 30,000 rows as training data, second 10,000 rows as validation data, and last 8,895 rows as test data"
   ]
  },
  {
   "cell_type": "code",
   "execution_count": 19,
   "id": "limited-relaxation",
   "metadata": {},
   "outputs": [
    {
     "data": {
      "text/plain": [
       "array([0., 1., 0., ..., 0., 0., 0.])"
      ]
     },
     "execution_count": 19,
     "metadata": {},
     "output_type": "execute_result"
    }
   ],
   "source": [
    "label"
   ]
  },
  {
   "cell_type": "code",
   "execution_count": 20,
   "id": "quick-tampa",
   "metadata": {},
   "outputs": [],
   "source": [
    "train_data=data[:30000]\n",
    "val_data=data[30000:40000]\n",
    "test_data=data[40000:48895]"
   ]
  },
  {
   "cell_type": "code",
   "execution_count": 21,
   "id": "rolled-webster",
   "metadata": {},
   "outputs": [],
   "source": [
    "train_label=label[:30000]\n",
    "val_label=label[30000:40000]\n",
    "test_label=label[40000:48895]"
   ]
  },
  {
   "cell_type": "code",
   "execution_count": 22,
   "id": "cellular-sword",
   "metadata": {},
   "outputs": [
    {
     "data": {
      "text/plain": [
       "(30000, 7)"
      ]
     },
     "execution_count": 22,
     "metadata": {},
     "output_type": "execute_result"
    }
   ],
   "source": [
    "train_data.shape"
   ]
  },
  {
   "cell_type": "code",
   "execution_count": 23,
   "id": "fifty-dimension",
   "metadata": {},
   "outputs": [
    {
     "data": {
      "text/plain": [
       "array([0., 1., 0., ..., 0., 0., 0.])"
      ]
     },
     "execution_count": 23,
     "metadata": {},
     "output_type": "execute_result"
    }
   ],
   "source": [
    "train_label"
   ]
  },
  {
   "cell_type": "code",
   "execution_count": 24,
   "id": "increased-question",
   "metadata": {},
   "outputs": [],
   "source": [
    "model=models.Sequential()\n",
    "model.add(layers.Dense(12, input_dim=7, activation='relu'))\n",
    "model.add(layers.Dropout(0.2))\n",
    "model.add(layers.Dense(8, activation='relu'))\n",
    "model.add(layers.Dense(1, activation='sigmoid'))"
   ]
  },
  {
   "cell_type": "code",
   "execution_count": 25,
   "id": "surgical-california",
   "metadata": {},
   "outputs": [
    {
     "name": "stdout",
     "output_type": "stream",
     "text": [
      "Model: \"sequential\"\n",
      "_________________________________________________________________\n",
      "Layer (type)                 Output Shape              Param #   \n",
      "=================================================================\n",
      "dense (Dense)                (None, 12)                96        \n",
      "_________________________________________________________________\n",
      "dropout (Dropout)            (None, 12)                0         \n",
      "_________________________________________________________________\n",
      "dense_1 (Dense)              (None, 8)                 104       \n",
      "_________________________________________________________________\n",
      "dense_2 (Dense)              (None, 1)                 9         \n",
      "=================================================================\n",
      "Total params: 209\n",
      "Trainable params: 209\n",
      "Non-trainable params: 0\n",
      "_________________________________________________________________\n"
     ]
    }
   ],
   "source": [
    "model.summary()"
   ]
  },
  {
   "cell_type": "code",
   "execution_count": 26,
   "id": "constitutional-elements",
   "metadata": {},
   "outputs": [],
   "source": [
    "model.compile(optimizer='rmsprop', loss='binary_crossentropy', metrics=['acc'])"
   ]
  },
  {
   "cell_type": "code",
   "execution_count": 27,
   "id": "commercial-astronomy",
   "metadata": {},
   "outputs": [],
   "source": [
    "zero_weight=1\n",
    "if experiment=='0':\n",
    "    early_stop=False\n",
    "    one_weight=1\n",
    "    epochs=1\n",
    "elif experiment=='1':\n",
    "    early_stop=False\n",
    "    one_weight=1\n",
    "    epochs=10\n",
    "elif experiment=='2':\n",
    "    early_stop=False\n",
    "    one_weight=1\n",
    "    epochs=50\n",
    "elif experiment=='3':\n",
    "    early_stop=False\n",
    "    one_weight=2\n",
    "    epochs=50\n",
    "elif experiment=='4':\n",
    "    early_stop=True\n",
    "    es_monitor='loss'\n",
    "    es_mode='min'\n",
    "    one_weight=2\n",
    "    epochs=50\n",
    "elif experiment=='5':\n",
    "    early_stop=True\n",
    "    es_monitor='acc'\n",
    "    es_mode='max'\n",
    "    one_weight=2\n",
    "    epochs=50\n",
    "elif experiment=='6':\n",
    "    early_stop=True\n",
    "    es_monitor='acc'\n",
    "    es_mode='max'\n",
    "    one_weight=2\n",
    "    epochs=20"
   ]
  },
  {
   "cell_type": "code",
   "execution_count": 29,
   "id": "horizontal-stone",
   "metadata": {},
   "outputs": [],
   "source": [
    "callbacks_list=[keras.callbacks.TensorBoard(log_dir='C:/Users/Sidney/LiveProject/Tensorboard_Log'+experiment,\n",
    "                                           histogram_freq=1, embeddings_freq=1 ),\n",
    "                keras.callbacks.EarlyStopping(monitor=es_monitor, mode=es_mode, patience=patience),\n",
    "                keras.callbacks.ModelCheckpoint(filepath='C:/Users/Sidney/LiveProject/Rob_model_exp'+experiment+'.h5',\n",
    "                                              monitor='val_loss', save_best_only=True),\n",
    "                keras.callbacks.ReduceLROnPlateau(monitor='val_loss', factor=factor, patience=patience)]\n",
    "\n",
    "if tensorboard_callback==False:\n",
    "    del callbacks_list[0]"
   ]
  },
  {
   "cell_type": "code",
   "execution_count": 30,
   "id": "suffering-credits",
   "metadata": {},
   "outputs": [],
   "source": [
    "if repeatable_run:\n",
    "    from numpy.random import seed\n",
    "    seed(1)\n",
    "    tf.random.set_seed(2)"
   ]
  },
  {
   "cell_type": "code",
   "execution_count": 31,
   "id": "massive-collectible",
   "metadata": {},
   "outputs": [
    {
     "name": "stdout",
     "output_type": "stream",
     "text": [
      "Epoch 1/50\n",
      " 1/60 [..............................] - ETA: 0s - loss: 1.0714 - acc: 0.2840WARNING:tensorflow:From C:\\Users\\Sidney\\anaconda3\\envs\\DeepLearning\\lib\\site-packages\\tensorflow\\python\\ops\\summary_ops_v2.py:1277: stop (from tensorflow.python.eager.profiler) is deprecated and will be removed after 2020-07-01.\n",
      "Instructions for updating:\n",
      "use `tf.profiler.experimental.stop` instead.\n",
      " 2/60 [>.............................] - ETA: 20s - loss: 1.0557 - acc: 0.2940WARNING:tensorflow:Callbacks method `on_train_batch_end` is slow compared to the batch time (batch time: 0.0423s vs `on_train_batch_end` time: 0.6340s). Check your callbacks.\n",
      "60/60 [==============================] - 2s 41ms/step - loss: 0.9460 - acc: 0.4515 - val_loss: 0.6959 - val_acc: 0.6299\n",
      "Epoch 2/50\n",
      "60/60 [==============================] - 0s 8ms/step - loss: 0.8771 - acc: 0.6431 - val_loss: 0.6455 - val_acc: 0.7108\n",
      "Epoch 3/50\n",
      "60/60 [==============================] - 0s 8ms/step - loss: 0.8490 - acc: 0.6810 - val_loss: 0.6155 - val_acc: 0.7339\n",
      "Epoch 4/50\n",
      "60/60 [==============================] - 0s 6ms/step - loss: 0.8259 - acc: 0.6947 - val_loss: 0.5901 - val_acc: 0.7469\n",
      "Epoch 5/50\n",
      "60/60 [==============================] - 0s 7ms/step - loss: 0.8017 - acc: 0.7072 - val_loss: 0.5661 - val_acc: 0.7550\n",
      "Epoch 6/50\n",
      "60/60 [==============================] - 0s 8ms/step - loss: 0.7831 - acc: 0.7124 - val_loss: 0.5507 - val_acc: 0.7590\n",
      "Epoch 7/50\n",
      "60/60 [==============================] - 0s 7ms/step - loss: 0.7635 - acc: 0.7202 - val_loss: 0.5324 - val_acc: 0.7632\n",
      "Epoch 8/50\n",
      "60/60 [==============================] - 0s 7ms/step - loss: 0.7497 - acc: 0.7225 - val_loss: 0.5207 - val_acc: 0.7676\n",
      "Epoch 9/50\n",
      "60/60 [==============================] - 0s 7ms/step - loss: 0.7366 - acc: 0.7238 - val_loss: 0.5101 - val_acc: 0.7696\n",
      "Epoch 10/50\n",
      "60/60 [==============================] - 0s 6ms/step - loss: 0.7237 - acc: 0.7253 - val_loss: 0.5018 - val_acc: 0.7688\n",
      "Epoch 11/50\n",
      "60/60 [==============================] - 0s 7ms/step - loss: 0.7182 - acc: 0.7242 - val_loss: 0.4958 - val_acc: 0.7709\n"
     ]
    }
   ],
   "source": [
    "if early_stop==False:\n",
    "    history=model.fit(train_data,train_label, epochs=epochs, batch_size=batch_size,\n",
    "                  validation_data=(val_data, val_label), class_weight={0: zero_weight, 1: one_weight})\n",
    "    model.save('C:/Users/Sidney/LiveProject/Rob_model_exp'+experiment+'.h5')\n",
    "\n",
    "else:\n",
    "    history=model.fit(train_data,train_label, epochs=epochs, batch_size=batch_size, callbacks=callbacks_list,\n",
    "                  validation_data=(val_data, val_label), class_weight={0: zero_weight, 1: one_weight})"
   ]
  },
  {
   "cell_type": "code",
   "execution_count": 207,
   "id": "confident-gasoline",
   "metadata": {},
   "outputs": [],
   "source": [
    "import matplotlib.pyplot as plt"
   ]
  },
  {
   "cell_type": "code",
   "execution_count": 208,
   "id": "laughing-cabin",
   "metadata": {},
   "outputs": [],
   "source": [
    "acc=history.history['acc']\n",
    "val_acc=history.history['val_acc']\n",
    "loss=history.history['loss']\n",
    "val_loss=history.history['val_loss']"
   ]
  },
  {
   "cell_type": "code",
   "execution_count": 209,
   "id": "former-consortium",
   "metadata": {},
   "outputs": [],
   "source": [
    "epochs=range(1,len(acc)+1)"
   ]
  },
  {
   "cell_type": "code",
   "execution_count": 210,
   "id": "south-military",
   "metadata": {},
   "outputs": [
    {
     "data": {
      "text/plain": [
       "<matplotlib.legend.Legend at 0x1442a0dcf70>"
      ]
     },
     "execution_count": 210,
     "metadata": {},
     "output_type": "execute_result"
    },
    {
     "data": {
      "image/png": "[encoded data removed]",
      "text/plain": [
       "<Figure size 432x288 with 1 Axes>"
      ]
     },
     "metadata": {
      "needs_background": "light"
     },
     "output_type": "display_data"
    }
   ],
   "source": [
    "plt.plot(epochs, acc, 'bo', label='Training acc')\n",
    "plt.plot(epochs,val_acc, 'b', label='Validaction acc')\n",
    "plt.title('Training and validation accuracy')\n",
    "plt.legend()"
   ]
  },
  {
   "cell_type": "code",
   "execution_count": 211,
   "id": "virtual-chapel",
   "metadata": {
    "scrolled": false
   },
   "outputs": [
    {
     "data": {
      "text/plain": [
       "<matplotlib.legend.Legend at 0x1442f01cbe0>"
      ]
     },
     "execution_count": 211,
     "metadata": {},
     "output_type": "execute_result"
    },
    {
     "data": {
      "image/png": "[encoded data removed]",
      "text/plain": [
       "<Figure size 432x288 with 1 Axes>"
      ]
     },
     "metadata": {
      "needs_background": "light"
     },
     "output_type": "display_data"
    }
   ],
   "source": [
    "plt.plot(epochs, loss, 'bo', label='Training loss')\n",
    "plt.plot(epochs, val_loss, 'b', label='Validation loss')\n",
    "plt.title('Training and validation loss')\n",
    "plt.legend()"
   ]
  },
  {
   "cell_type": "markdown",
   "id": "adjacent-conversion",
   "metadata": {},
   "source": [
    "I will now eavaluate the model on the test dataset,\n",
    "create an array for the actual label from the test data\n",
    "create an array for the predicted label from the model on the test data\n",
    "and plot the confusion matrix from these two arrays"
   ]
  },
  {
   "cell_type": "code",
   "execution_count": 212,
   "id": "hawaiian-progressive",
   "metadata": {},
   "outputs": [
    {
     "name": "stdout",
     "output_type": "stream",
     "text": [
      "acc: 75.23%\n"
     ]
    }
   ],
   "source": [
    "# evaluate the model on the test data\n",
    "score = model.evaluate(test_data, test_label, verbose=0)\n",
    "print(\"%s: %.2f%%\" % (model.metrics_names[1], score[1]*100))"
   ]
  },
  {
   "cell_type": "code",
   "execution_count": 213,
   "id": "alien-analyst",
   "metadata": {},
   "outputs": [
    {
     "data": {
      "text/plain": [
       "array([1., 0., 0., ..., 0., 0., 0.])"
      ]
     },
     "execution_count": 213,
     "metadata": {},
     "output_type": "execute_result"
    }
   ],
   "source": [
    "test_label"
   ]
  },
  {
   "cell_type": "code",
   "execution_count": 214,
   "id": "artistic-ireland",
   "metadata": {},
   "outputs": [],
   "source": [
    "test_pred=model.predict(test_data)"
   ]
  },
  {
   "cell_type": "code",
   "execution_count": 215,
   "id": "flush-robin",
   "metadata": {},
   "outputs": [
    {
     "data": {
      "text/plain": [
       "array([[0.76657385],\n",
       "       [0.11763158],\n",
       "       [0.260869  ],\n",
       "       ...,\n",
       "       [0.6870369 ],\n",
       "       [0.1194317 ],\n",
       "       [0.23219532]], dtype=float32)"
      ]
     },
     "execution_count": 215,
     "metadata": {},
     "output_type": "execute_result"
    }
   ],
   "source": [
    "test_pred"
   ]
  },
  {
   "cell_type": "code",
   "execution_count": 216,
   "id": "chronic-output",
   "metadata": {},
   "outputs": [],
   "source": [
    "Binary_test_pred=np.rint(test_pred)"
   ]
  },
  {
   "cell_type": "code",
   "execution_count": 217,
   "id": "several-colonial",
   "metadata": {},
   "outputs": [
    {
     "data": {
      "text/plain": [
       "array([[1.],\n",
       "       [0.],\n",
       "       [0.],\n",
       "       ...,\n",
       "       [1.],\n",
       "       [0.],\n",
       "       [0.]], dtype=float32)"
      ]
     },
     "execution_count": 217,
     "metadata": {},
     "output_type": "execute_result"
    }
   ],
   "source": [
    "Binary_test_pred"
   ]
  },
  {
   "cell_type": "code",
   "execution_count": 218,
   "id": "selected-xerox",
   "metadata": {},
   "outputs": [],
   "source": [
    "from sklearn import metrics\n",
    "from sklearn.metrics import confusion_matrix\n",
    "from sklearn.metrics import plot_confusion_matrix\n",
    "import seaborn as sns"
   ]
  },
  {
   "cell_type": "code",
   "execution_count": 219,
   "id": "embedded-number",
   "metadata": {},
   "outputs": [
    {
     "data": {
      "image/png": "[encoded data removed]",
      "text/plain": [
       "<Figure size 432x288 with 2 Axes>"
      ]
     },
     "metadata": {
      "needs_background": "light"
     },
     "output_type": "display_data"
    }
   ],
   "source": [
    "cfmap=metrics.confusion_matrix(y_true=test_label, y_pred=Binary_test_pred)\n",
    "label = [\"0\", \"1\"]\n",
    "sns.heatmap(cfmap, annot = True, xticklabels = label, yticklabels = label)\n",
    "plt.xlabel(\"Prediction\")\n",
    "plt.title(\"Confusion Matrix for AirBnB Price Prediction\")\n",
    "plt.show()"
   ]
  },
  {
   "cell_type": "code",
   "execution_count": null,
   "id": "affected-bridal",
   "metadata": {},
   "outputs": [],
   "source": []
  }
 ],
 "metadata": {
  "kernelspec": {
   "display_name": "Python 3",
   "language": "python",
   "name": "python3"
  },
  "language_info": {
   "codemirror_mode": {
    "name": "ipython",
    "version": 3
   },
   "file_extension": ".py",
   "mimetype": "text/x-python",
   "name": "python",
   "nbconvert_exporter": "python",
   "pygments_lexer": "ipython3",
   "version": "3.8.8"
  }
 },
 "nbformat": 4,
 "nbformat_minor": 5
}
